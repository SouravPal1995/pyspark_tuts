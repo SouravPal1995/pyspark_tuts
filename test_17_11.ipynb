{
 "cells": [
  {
   "cell_type": "code",
   "execution_count": 4,
   "id": "13352cec-b325-4815-82c2-d93ef5a34d25",
   "metadata": {},
   "outputs": [],
   "source": [
    "import findspark\n",
    "findspark.init()"
   ]
  },
  {
   "cell_type": "code",
   "execution_count": 5,
   "id": "c9f1862e-70df-4144-a0ed-7930c25dc3aa",
   "metadata": {},
   "outputs": [],
   "source": [
    "from pyspark.sql import SparkSession"
   ]
  },
  {
   "cell_type": "code",
   "execution_count": 6,
   "id": "e35c10d1-546f-4cf9-8eb5-51ca68320268",
   "metadata": {},
   "outputs": [],
   "source": [
    "spark_session = SparkSession.builder.appName(\"spark_session\").getOrCreate()"
   ]
  },
  {
   "cell_type": "code",
   "execution_count": 24,
   "id": "631063a9-252e-4057-b269-7e6b56288894",
   "metadata": {},
   "outputs": [
    {
     "name": "stdout",
     "output_type": "stream",
     "text": [
      "+---+---+---+\n",
      "|  A|  B|  C|\n",
      "+---+---+---+\n",
      "|  1|  2|  3|\n",
      "|  4|  5|  6|\n",
      "|  7|  8|  9|\n",
      "+---+---+---+\n",
      "\n"
     ]
    }
   ],
   "source": [
    "#test_df = spark_session.read.option(\"header\", \"true\").csv(\"test_df.csv\")\n",
    "test_df = spark_session.read.csv(\"test_df.csv\", header=True, inferSchema=True)\n",
    "test_df.show()"
   ]
  },
  {
   "cell_type": "code",
   "execution_count": 25,
   "id": "828ac0cd-d6b3-4f14-a659-a868028a258b",
   "metadata": {},
   "outputs": [
    {
     "name": "stdout",
     "output_type": "stream",
     "text": [
      "root\n",
      " |-- A: integer (nullable = true)\n",
      " |-- B: integer (nullable = true)\n",
      " |-- C: integer (nullable = true)\n",
      "\n"
     ]
    }
   ],
   "source": [
    "test_df.printSchema()"
   ]
  },
  {
   "cell_type": "code",
   "execution_count": 20,
   "id": "a2008dbd-e633-4020-bf82-ef96f46412ca",
   "metadata": {},
   "outputs": [
    {
     "data": {
      "text/plain": [
       "(['A', 'B', 'C'], [Row(A=1, B=2, C=3), Row(A=4, B=5, C=6), Row(A=7, B=8, C=9)])"
      ]
     },
     "execution_count": 20,
     "metadata": {},
     "output_type": "execute_result"
    }
   ],
   "source": [
    "test_df.columns, test_df.head(3)"
   ]
  },
  {
   "cell_type": "code",
   "execution_count": 31,
   "id": "5b47b197-c11e-4190-85df-47f664c314a6",
   "metadata": {},
   "outputs": [
    {
     "name": "stdout",
     "output_type": "stream",
     "text": [
      "+---+---+\n",
      "|  A|  B|\n",
      "+---+---+\n",
      "|  1|  2|\n",
      "|  4|  5|\n",
      "|  7|  8|\n",
      "+---+---+\n",
      "\n"
     ]
    }
   ],
   "source": [
    "test_df.select([\"A\", \"B\"]).show()"
   ]
  },
  {
   "cell_type": "code",
   "execution_count": 32,
   "id": "53f25c71-7819-4d39-8671-47ade1360cba",
   "metadata": {},
   "outputs": [
    {
     "name": "stdout",
     "output_type": "stream",
     "text": [
      "+-------+---+---+---+\n",
      "|summary|  A|  B|  C|\n",
      "+-------+---+---+---+\n",
      "|  count|  3|  3|  3|\n",
      "|   mean|4.0|5.0|6.0|\n",
      "| stddev|3.0|3.0|3.0|\n",
      "|    min|  1|  2|  3|\n",
      "|    max|  7|  8|  9|\n",
      "+-------+---+---+---+\n",
      "\n"
     ]
    }
   ],
   "source": [
    "test_df.describe().show()"
   ]
  },
  {
   "cell_type": "code",
   "execution_count": 34,
   "id": "93c4018c-6603-4e33-a482-c6cbe57eb721",
   "metadata": {},
   "outputs": [
    {
     "data": {
      "text/plain": [
       "DataFrame[A: int, B: int, C: int, D: int]"
      ]
     },
     "execution_count": 34,
     "metadata": {},
     "output_type": "execute_result"
    }
   ],
   "source": [
    "test_df = test_df.withColumn(\"D\", test_df[\"C\"] + 10)\n",
    "test_df"
   ]
  },
  {
   "cell_type": "code",
   "execution_count": 35,
   "id": "6a519897-b47c-4377-9132-e17825d99956",
   "metadata": {},
   "outputs": [
    {
     "name": "stdout",
     "output_type": "stream",
     "text": [
      "+---+---+---+---+\n",
      "|  A|  B|  C|  D|\n",
      "+---+---+---+---+\n",
      "|  1|  2|  3| 13|\n",
      "|  4|  5|  6| 16|\n",
      "|  7|  8|  9| 19|\n",
      "+---+---+---+---+\n",
      "\n"
     ]
    }
   ],
   "source": [
    "test_df.show()"
   ]
  },
  {
   "cell_type": "code",
   "execution_count": 36,
   "id": "4dbe4846-a2ce-44bf-85ab-4bd9b1842380",
   "metadata": {},
   "outputs": [
    {
     "name": "stdout",
     "output_type": "stream",
     "text": [
      "+---+---+---+\n",
      "|  A|  B|  C|\n",
      "+---+---+---+\n",
      "|  1|  2|  3|\n",
      "|  4|  5|  6|\n",
      "|  7|  8|  9|\n",
      "+---+---+---+\n",
      "\n"
     ]
    }
   ],
   "source": [
    "test_df = test_df.drop(\"D\")\n",
    "test_df.show()"
   ]
  },
  {
   "cell_type": "code",
   "execution_count": 39,
   "id": "4e291665-2b7e-4ca8-96a9-e188d61a7da1",
   "metadata": {},
   "outputs": [
    {
     "name": "stdout",
     "output_type": "stream",
     "text": [
      "+---+---+---------+\n",
      "|  A|  B|C_Renamed|\n",
      "+---+---+---------+\n",
      "|  1|  2|        3|\n",
      "|  4|  5|        6|\n",
      "|  7|  8|        9|\n",
      "+---+---+---------+\n",
      "\n"
     ]
    }
   ],
   "source": [
    "test_df.withColumnRenamed(\"C\", \"C_Renamed\").show()"
   ]
  },
  {
   "cell_type": "code",
   "execution_count": null,
   "id": "cd8b67df-8cce-427e-b9a8-362fa819e635",
   "metadata": {},
   "outputs": [],
   "source": []
  },
  {
   "cell_type": "code",
   "execution_count": null,
   "id": "e2110059-db25-44b4-8e69-8d9b0f564270",
   "metadata": {},
   "outputs": [],
   "source": []
  },
  {
   "cell_type": "code",
   "execution_count": null,
   "id": "74c09265-3998-4fc1-bb38-7ebb5b1d3a51",
   "metadata": {},
   "outputs": [],
   "source": []
  },
  {
   "cell_type": "code",
   "execution_count": null,
   "id": "5c5b772a-88ab-46b4-ab83-5124384bae22",
   "metadata": {},
   "outputs": [],
   "source": []
  }
 ],
 "metadata": {
  "kernelspec": {
   "display_name": "v_env_pyspark",
   "language": "python",
   "name": "v_env_pyspark"
  },
  "language_info": {
   "codemirror_mode": {
    "name": "ipython",
    "version": 3
   },
   "file_extension": ".py",
   "mimetype": "text/x-python",
   "name": "python",
   "nbconvert_exporter": "python",
   "pygments_lexer": "ipython3",
   "version": "3.10.8"
  }
 },
 "nbformat": 4,
 "nbformat_minor": 5
}
